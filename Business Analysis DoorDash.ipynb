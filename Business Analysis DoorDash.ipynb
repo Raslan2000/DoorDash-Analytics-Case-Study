{
  "nbformat": 4,
  "nbformat_minor": 0,
  "metadata": {
    "colab": {
      "provenance": []
    },
    "kernelspec": {
      "name": "python3",
      "display_name": "Python 3"
    },
    "language_info": {
      "name": "python"
    }
  },
  "cells": [
    {
      "cell_type": "markdown",
      "source": [
        "# **DoorDash Analytics Case Study:**\n",
        "\n",
        "## **Introduction**\n",
        "The objective of this analysis is to examine the provided dataset and generate specific recommendations on how DoorDash can improve its business operations. This involves analyzing key metrics and providing supporting analysis while stating the assumptions made during the process.\n",
        "\n",
        "Dataset Overview\n",
        "The dataset includes the following information:\n",
        "\n",
        "* Customer order time\n",
        "* Restaurant order time\n",
        "* Driver arrival at restaurant time\n",
        "* Order delivery time\n",
        "* Driver ID\n",
        "* Customer ID\n",
        "* Amount of discount\n",
        "* Amount of tip\n",
        "\n",
        "\n",
        "After researching, it was determined that the north star metric for DoorDash is the Number of completed deliveries. This analysis focuses on this metric to provide business recommendations aimed at improving it.\n",
        "\n"
      ],
      "metadata": {
        "id": "M_Ai4f_hSIrH"
      }
    },
    {
      "cell_type": "code",
      "execution_count": null,
      "metadata": {
        "id": "ALc2x8op9AUj"
      },
      "outputs": [],
      "source": [
        "import pandas as pd\n",
        "import numpy as np\n",
        "import matplotlib.pyplot as plt\n",
        "import seaborn as sns\n",
        "from sklearn.model_selection import train_test_split, cross_val_score\n",
        "from sklearn.ensemble import RandomForestRegressor\n",
        "from sklearn.metrics import mean_squared_error, mean_absolute_error\n",
        "from sklearn.linear_model import Ridge, Lasso\n",
        "from sklearn.ensemble import RandomForestRegressor, GradientBoostingRegressor\n",
        "from xgboost import XGBRegressor\n",
        "from sklearn.metrics import mean_squared_error"
      ]
    },
    {
      "cell_type": "code",
      "source": [
        "df = pd.read_csv(\"/content/Analytics_Sample_Data_rsc.csv\")"
      ],
      "metadata": {
        "id": "xZIxyiJE9Goe"
      },
      "execution_count": null,
      "outputs": []
    },
    {
      "cell_type": "code",
      "source": [
        "df.head()"
      ],
      "metadata": {
        "colab": {
          "base_uri": "https://localhost:8080/",
          "height": 226
        },
        "id": "rz4v_qvg9Kke",
        "outputId": "ec618634-d219-4998-892a-1c008438bb57"
      },
      "execution_count": null,
      "outputs": [
        {
          "output_type": "execute_result",
          "data": {
            "text/plain": [
              "  Customer_placed_order_datetime Placed_order_with_restaurant_datetime  \\\n",
              "0                    14 20:27:45                           14 20:29:41   \n",
              "1                    07 20:16:28                           07 20:17:32   \n",
              "2                    13 19:35:09                           13 19:39:26   \n",
              "3                    22 19:47:53                           22 19:56:08   \n",
              "4                    03 19:01:52                           03 19:09:08   \n",
              "\n",
              "  Driver_at_restaurant_datetime Delivered_to_consumer_datetime  Driver_ID  \\\n",
              "0                   14 20:39:32                    14 20:52:03         86   \n",
              "1                   07 20:36:00                    07 20:49:02        325   \n",
              "2                   13 20:28:16                    13 20:52:44        200   \n",
              "3                   22 20:01:20                    22 20:18:01        154   \n",
              "4                   03 19:36:20                    03 19:45:26        332   \n",
              "\n",
              "   Restaurant_ID  Consumer_ID  Is_New Delivery_Region  Is_ASAP  Order_total  \\\n",
              "0             12            5   False       Palo Alto     True        20.45   \n",
              "1             66            5   False       Palo Alto     True        40.62   \n",
              "2            124            5   False       Palo Alto     True        37.78   \n",
              "3              5           14   False       Palo Alto     True        39.66   \n",
              "4              9           14   False       Palo Alto     True        39.66   \n",
              "\n",
              "   Amount_of_discount  Amount_of_tip  Refunded_amount  \n",
              "0               20.45           3.07              0.0  \n",
              "1               40.62           3.73              0.0  \n",
              "2               37.78           1.89              0.0  \n",
              "3                0.00           1.98              0.0  \n",
              "4                0.00           5.95              0.0  "
            ],
            "text/html": [
              "\n",
              "  <div id=\"df-9f8a2de2-e4ed-4804-9a7e-c5df407f1e0f\" class=\"colab-df-container\">\n",
              "    <div>\n",
              "<style scoped>\n",
              "    .dataframe tbody tr th:only-of-type {\n",
              "        vertical-align: middle;\n",
              "    }\n",
              "\n",
              "    .dataframe tbody tr th {\n",
              "        vertical-align: top;\n",
              "    }\n",
              "\n",
              "    .dataframe thead th {\n",
              "        text-align: right;\n",
              "    }\n",
              "</style>\n",
              "<table border=\"1\" class=\"dataframe\">\n",
              "  <thead>\n",
              "    <tr style=\"text-align: right;\">\n",
              "      <th></th>\n",
              "      <th>Customer_placed_order_datetime</th>\n",
              "      <th>Placed_order_with_restaurant_datetime</th>\n",
              "      <th>Driver_at_restaurant_datetime</th>\n",
              "      <th>Delivered_to_consumer_datetime</th>\n",
              "      <th>Driver_ID</th>\n",
              "      <th>Restaurant_ID</th>\n",
              "      <th>Consumer_ID</th>\n",
              "      <th>Is_New</th>\n",
              "      <th>Delivery_Region</th>\n",
              "      <th>Is_ASAP</th>\n",
              "      <th>Order_total</th>\n",
              "      <th>Amount_of_discount</th>\n",
              "      <th>Amount_of_tip</th>\n",
              "      <th>Refunded_amount</th>\n",
              "    </tr>\n",
              "  </thead>\n",
              "  <tbody>\n",
              "    <tr>\n",
              "      <th>0</th>\n",
              "      <td>14 20:27:45</td>\n",
              "      <td>14 20:29:41</td>\n",
              "      <td>14 20:39:32</td>\n",
              "      <td>14 20:52:03</td>\n",
              "      <td>86</td>\n",
              "      <td>12</td>\n",
              "      <td>5</td>\n",
              "      <td>False</td>\n",
              "      <td>Palo Alto</td>\n",
              "      <td>True</td>\n",
              "      <td>20.45</td>\n",
              "      <td>20.45</td>\n",
              "      <td>3.07</td>\n",
              "      <td>0.0</td>\n",
              "    </tr>\n",
              "    <tr>\n",
              "      <th>1</th>\n",
              "      <td>07 20:16:28</td>\n",
              "      <td>07 20:17:32</td>\n",
              "      <td>07 20:36:00</td>\n",
              "      <td>07 20:49:02</td>\n",
              "      <td>325</td>\n",
              "      <td>66</td>\n",
              "      <td>5</td>\n",
              "      <td>False</td>\n",
              "      <td>Palo Alto</td>\n",
              "      <td>True</td>\n",
              "      <td>40.62</td>\n",
              "      <td>40.62</td>\n",
              "      <td>3.73</td>\n",
              "      <td>0.0</td>\n",
              "    </tr>\n",
              "    <tr>\n",
              "      <th>2</th>\n",
              "      <td>13 19:35:09</td>\n",
              "      <td>13 19:39:26</td>\n",
              "      <td>13 20:28:16</td>\n",
              "      <td>13 20:52:44</td>\n",
              "      <td>200</td>\n",
              "      <td>124</td>\n",
              "      <td>5</td>\n",
              "      <td>False</td>\n",
              "      <td>Palo Alto</td>\n",
              "      <td>True</td>\n",
              "      <td>37.78</td>\n",
              "      <td>37.78</td>\n",
              "      <td>1.89</td>\n",
              "      <td>0.0</td>\n",
              "    </tr>\n",
              "    <tr>\n",
              "      <th>3</th>\n",
              "      <td>22 19:47:53</td>\n",
              "      <td>22 19:56:08</td>\n",
              "      <td>22 20:01:20</td>\n",
              "      <td>22 20:18:01</td>\n",
              "      <td>154</td>\n",
              "      <td>5</td>\n",
              "      <td>14</td>\n",
              "      <td>False</td>\n",
              "      <td>Palo Alto</td>\n",
              "      <td>True</td>\n",
              "      <td>39.66</td>\n",
              "      <td>0.00</td>\n",
              "      <td>1.98</td>\n",
              "      <td>0.0</td>\n",
              "    </tr>\n",
              "    <tr>\n",
              "      <th>4</th>\n",
              "      <td>03 19:01:52</td>\n",
              "      <td>03 19:09:08</td>\n",
              "      <td>03 19:36:20</td>\n",
              "      <td>03 19:45:26</td>\n",
              "      <td>332</td>\n",
              "      <td>9</td>\n",
              "      <td>14</td>\n",
              "      <td>False</td>\n",
              "      <td>Palo Alto</td>\n",
              "      <td>True</td>\n",
              "      <td>39.66</td>\n",
              "      <td>0.00</td>\n",
              "      <td>5.95</td>\n",
              "      <td>0.0</td>\n",
              "    </tr>\n",
              "  </tbody>\n",
              "</table>\n",
              "</div>\n",
              "    <div class=\"colab-df-buttons\">\n",
              "\n",
              "  <div class=\"colab-df-container\">\n",
              "    <button class=\"colab-df-convert\" onclick=\"convertToInteractive('df-9f8a2de2-e4ed-4804-9a7e-c5df407f1e0f')\"\n",
              "            title=\"Convert this dataframe to an interactive table.\"\n",
              "            style=\"display:none;\">\n",
              "\n",
              "  <svg xmlns=\"http://www.w3.org/2000/svg\" height=\"24px\" viewBox=\"0 -960 960 960\">\n",
              "    <path d=\"M120-120v-720h720v720H120Zm60-500h600v-160H180v160Zm220 220h160v-160H400v160Zm0 220h160v-160H400v160ZM180-400h160v-160H180v160Zm440 0h160v-160H620v160ZM180-180h160v-160H180v160Zm440 0h160v-160H620v160Z\"/>\n",
              "  </svg>\n",
              "    </button>\n",
              "\n",
              "  <style>\n",
              "    .colab-df-container {\n",
              "      display:flex;\n",
              "      gap: 12px;\n",
              "    }\n",
              "\n",
              "    .colab-df-convert {\n",
              "      background-color: #E8F0FE;\n",
              "      border: none;\n",
              "      border-radius: 50%;\n",
              "      cursor: pointer;\n",
              "      display: none;\n",
              "      fill: #1967D2;\n",
              "      height: 32px;\n",
              "      padding: 0 0 0 0;\n",
              "      width: 32px;\n",
              "    }\n",
              "\n",
              "    .colab-df-convert:hover {\n",
              "      background-color: #E2EBFA;\n",
              "      box-shadow: 0px 1px 2px rgba(60, 64, 67, 0.3), 0px 1px 3px 1px rgba(60, 64, 67, 0.15);\n",
              "      fill: #174EA6;\n",
              "    }\n",
              "\n",
              "    .colab-df-buttons div {\n",
              "      margin-bottom: 4px;\n",
              "    }\n",
              "\n",
              "    [theme=dark] .colab-df-convert {\n",
              "      background-color: #3B4455;\n",
              "      fill: #D2E3FC;\n",
              "    }\n",
              "\n",
              "    [theme=dark] .colab-df-convert:hover {\n",
              "      background-color: #434B5C;\n",
              "      box-shadow: 0px 1px 3px 1px rgba(0, 0, 0, 0.15);\n",
              "      filter: drop-shadow(0px 1px 2px rgba(0, 0, 0, 0.3));\n",
              "      fill: #FFFFFF;\n",
              "    }\n",
              "  </style>\n",
              "\n",
              "    <script>\n",
              "      const buttonEl =\n",
              "        document.querySelector('#df-9f8a2de2-e4ed-4804-9a7e-c5df407f1e0f button.colab-df-convert');\n",
              "      buttonEl.style.display =\n",
              "        google.colab.kernel.accessAllowed ? 'block' : 'none';\n",
              "\n",
              "      async function convertToInteractive(key) {\n",
              "        const element = document.querySelector('#df-9f8a2de2-e4ed-4804-9a7e-c5df407f1e0f');\n",
              "        const dataTable =\n",
              "          await google.colab.kernel.invokeFunction('convertToInteractive',\n",
              "                                                    [key], {});\n",
              "        if (!dataTable) return;\n",
              "\n",
              "        const docLinkHtml = 'Like what you see? Visit the ' +\n",
              "          '<a target=\"_blank\" href=https://colab.research.google.com/notebooks/data_table.ipynb>data table notebook</a>'\n",
              "          + ' to learn more about interactive tables.';\n",
              "        element.innerHTML = '';\n",
              "        dataTable['output_type'] = 'display_data';\n",
              "        await google.colab.output.renderOutput(dataTable, element);\n",
              "        const docLink = document.createElement('div');\n",
              "        docLink.innerHTML = docLinkHtml;\n",
              "        element.appendChild(docLink);\n",
              "      }\n",
              "    </script>\n",
              "  </div>\n",
              "\n",
              "\n",
              "<div id=\"df-061e7682-2e3e-4a61-86d1-f9d697331ab6\">\n",
              "  <button class=\"colab-df-quickchart\" onclick=\"quickchart('df-061e7682-2e3e-4a61-86d1-f9d697331ab6')\"\n",
              "            title=\"Suggest charts\"\n",
              "            style=\"display:none;\">\n",
              "\n",
              "<svg xmlns=\"http://www.w3.org/2000/svg\" height=\"24px\"viewBox=\"0 0 24 24\"\n",
              "     width=\"24px\">\n",
              "    <g>\n",
              "        <path d=\"M19 3H5c-1.1 0-2 .9-2 2v14c0 1.1.9 2 2 2h14c1.1 0 2-.9 2-2V5c0-1.1-.9-2-2-2zM9 17H7v-7h2v7zm4 0h-2V7h2v10zm4 0h-2v-4h2v4z\"/>\n",
              "    </g>\n",
              "</svg>\n",
              "  </button>\n",
              "\n",
              "<style>\n",
              "  .colab-df-quickchart {\n",
              "      --bg-color: #E8F0FE;\n",
              "      --fill-color: #1967D2;\n",
              "      --hover-bg-color: #E2EBFA;\n",
              "      --hover-fill-color: #174EA6;\n",
              "      --disabled-fill-color: #AAA;\n",
              "      --disabled-bg-color: #DDD;\n",
              "  }\n",
              "\n",
              "  [theme=dark] .colab-df-quickchart {\n",
              "      --bg-color: #3B4455;\n",
              "      --fill-color: #D2E3FC;\n",
              "      --hover-bg-color: #434B5C;\n",
              "      --hover-fill-color: #FFFFFF;\n",
              "      --disabled-bg-color: #3B4455;\n",
              "      --disabled-fill-color: #666;\n",
              "  }\n",
              "\n",
              "  .colab-df-quickchart {\n",
              "    background-color: var(--bg-color);\n",
              "    border: none;\n",
              "    border-radius: 50%;\n",
              "    cursor: pointer;\n",
              "    display: none;\n",
              "    fill: var(--fill-color);\n",
              "    height: 32px;\n",
              "    padding: 0;\n",
              "    width: 32px;\n",
              "  }\n",
              "\n",
              "  .colab-df-quickchart:hover {\n",
              "    background-color: var(--hover-bg-color);\n",
              "    box-shadow: 0 1px 2px rgba(60, 64, 67, 0.3), 0 1px 3px 1px rgba(60, 64, 67, 0.15);\n",
              "    fill: var(--button-hover-fill-color);\n",
              "  }\n",
              "\n",
              "  .colab-df-quickchart-complete:disabled,\n",
              "  .colab-df-quickchart-complete:disabled:hover {\n",
              "    background-color: var(--disabled-bg-color);\n",
              "    fill: var(--disabled-fill-color);\n",
              "    box-shadow: none;\n",
              "  }\n",
              "\n",
              "  .colab-df-spinner {\n",
              "    border: 2px solid var(--fill-color);\n",
              "    border-color: transparent;\n",
              "    border-bottom-color: var(--fill-color);\n",
              "    animation:\n",
              "      spin 1s steps(1) infinite;\n",
              "  }\n",
              "\n",
              "  @keyframes spin {\n",
              "    0% {\n",
              "      border-color: transparent;\n",
              "      border-bottom-color: var(--fill-color);\n",
              "      border-left-color: var(--fill-color);\n",
              "    }\n",
              "    20% {\n",
              "      border-color: transparent;\n",
              "      border-left-color: var(--fill-color);\n",
              "      border-top-color: var(--fill-color);\n",
              "    }\n",
              "    30% {\n",
              "      border-color: transparent;\n",
              "      border-left-color: var(--fill-color);\n",
              "      border-top-color: var(--fill-color);\n",
              "      border-right-color: var(--fill-color);\n",
              "    }\n",
              "    40% {\n",
              "      border-color: transparent;\n",
              "      border-right-color: var(--fill-color);\n",
              "      border-top-color: var(--fill-color);\n",
              "    }\n",
              "    60% {\n",
              "      border-color: transparent;\n",
              "      border-right-color: var(--fill-color);\n",
              "    }\n",
              "    80% {\n",
              "      border-color: transparent;\n",
              "      border-right-color: var(--fill-color);\n",
              "      border-bottom-color: var(--fill-color);\n",
              "    }\n",
              "    90% {\n",
              "      border-color: transparent;\n",
              "      border-bottom-color: var(--fill-color);\n",
              "    }\n",
              "  }\n",
              "</style>\n",
              "\n",
              "  <script>\n",
              "    async function quickchart(key) {\n",
              "      const quickchartButtonEl =\n",
              "        document.querySelector('#' + key + ' button');\n",
              "      quickchartButtonEl.disabled = true;  // To prevent multiple clicks.\n",
              "      quickchartButtonEl.classList.add('colab-df-spinner');\n",
              "      try {\n",
              "        const charts = await google.colab.kernel.invokeFunction(\n",
              "            'suggestCharts', [key], {});\n",
              "      } catch (error) {\n",
              "        console.error('Error during call to suggestCharts:', error);\n",
              "      }\n",
              "      quickchartButtonEl.classList.remove('colab-df-spinner');\n",
              "      quickchartButtonEl.classList.add('colab-df-quickchart-complete');\n",
              "    }\n",
              "    (() => {\n",
              "      let quickchartButtonEl =\n",
              "        document.querySelector('#df-061e7682-2e3e-4a61-86d1-f9d697331ab6 button');\n",
              "      quickchartButtonEl.style.display =\n",
              "        google.colab.kernel.accessAllowed ? 'block' : 'none';\n",
              "    })();\n",
              "  </script>\n",
              "</div>\n",
              "\n",
              "    </div>\n",
              "  </div>\n"
            ],
            "application/vnd.google.colaboratory.intrinsic+json": {
              "type": "dataframe",
              "variable_name": "df",
              "summary": "{\n  \"name\": \"df\",\n  \"rows\": 18078,\n  \"fields\": [\n    {\n      \"column\": \"Customer_placed_order_datetime\",\n      \"properties\": {\n        \"dtype\": \"string\",\n        \"num_unique_values\": 17888,\n        \"samples\": [\n          \"22 17:30:19\",\n          \"06 23:38:02\",\n          \"11 18:29:55\"\n        ],\n        \"semantic_type\": \"\",\n        \"description\": \"\"\n      }\n    },\n    {\n      \"column\": \"Placed_order_with_restaurant_datetime\",\n      \"properties\": {\n        \"dtype\": \"string\",\n        \"num_unique_values\": 17905,\n        \"samples\": [\n          \"10 19:20:36\",\n          \"27 18:20:11\",\n          \"08 17:23:59\"\n        ],\n        \"semantic_type\": \"\",\n        \"description\": \"\"\n      }\n    },\n    {\n      \"column\": \"Driver_at_restaurant_datetime\",\n      \"properties\": {\n        \"dtype\": \"string\",\n        \"num_unique_values\": 13382,\n        \"samples\": [\n          \"05 23:42:49\",\n          \"07 03:43:56\",\n          \"04 03:44:16\"\n        ],\n        \"semantic_type\": \"\",\n        \"description\": \"\"\n      }\n    },\n    {\n      \"column\": \"Delivered_to_consumer_datetime\",\n      \"properties\": {\n        \"dtype\": \"string\",\n        \"num_unique_values\": 17886,\n        \"samples\": [\n          \"23 19:02:45\",\n          \"02 00:37:15\",\n          \"30 03:05:24\"\n        ],\n        \"semantic_type\": \"\",\n        \"description\": \"\"\n      }\n    },\n    {\n      \"column\": \"Driver_ID\",\n      \"properties\": {\n        \"dtype\": \"number\",\n        \"std\": 105,\n        \"min\": 7,\n        \"max\": 438,\n        \"num_unique_values\": 295,\n        \"samples\": [\n          411,\n          170,\n          24\n        ],\n        \"semantic_type\": \"\",\n        \"description\": \"\"\n      }\n    },\n    {\n      \"column\": \"Restaurant_ID\",\n      \"properties\": {\n        \"dtype\": \"number\",\n        \"std\": 98,\n        \"min\": 2,\n        \"max\": 409,\n        \"num_unique_values\": 314,\n        \"samples\": [\n          55,\n          101,\n          276\n        ],\n        \"semantic_type\": \"\",\n        \"description\": \"\"\n      }\n    },\n    {\n      \"column\": \"Consumer_ID\",\n      \"properties\": {\n        \"dtype\": \"number\",\n        \"std\": 42010,\n        \"min\": 5,\n        \"max\": 200449,\n        \"num_unique_values\": 6701,\n        \"samples\": [\n          58402,\n          9338,\n          98085\n        ],\n        \"semantic_type\": \"\",\n        \"description\": \"\"\n      }\n    },\n    {\n      \"column\": \"Is_New\",\n      \"properties\": {\n        \"dtype\": \"boolean\",\n        \"num_unique_values\": 2,\n        \"samples\": [\n          true,\n          false\n        ],\n        \"semantic_type\": \"\",\n        \"description\": \"\"\n      }\n    },\n    {\n      \"column\": \"Delivery_Region\",\n      \"properties\": {\n        \"dtype\": \"category\",\n        \"num_unique_values\": 3,\n        \"samples\": [\n          \"Palo Alto\",\n          \"Mountain View\"\n        ],\n        \"semantic_type\": \"\",\n        \"description\": \"\"\n      }\n    },\n    {\n      \"column\": \"Is_ASAP\",\n      \"properties\": {\n        \"dtype\": \"boolean\",\n        \"num_unique_values\": 2,\n        \"samples\": [\n          false,\n          true\n        ],\n        \"semantic_type\": \"\",\n        \"description\": \"\"\n      }\n    },\n    {\n      \"column\": \"Order_total\",\n      \"properties\": {\n        \"dtype\": \"number\",\n        \"std\": 50.599674501605016,\n        \"min\": 0.0,\n        \"max\": 1604.13,\n        \"num_unique_values\": 3733,\n        \"samples\": [\n          150.55,\n          42.35\n        ],\n        \"semantic_type\": \"\",\n        \"description\": \"\"\n      }\n    },\n    {\n      \"column\": \"Amount_of_discount\",\n      \"properties\": {\n        \"dtype\": \"number\",\n        \"std\": 6.516667255717294,\n        \"min\": 0.0,\n        \"max\": 187.88,\n        \"num_unique_values\": 155,\n        \"samples\": [\n          25.0,\n          89.4\n        ],\n        \"semantic_type\": \"\",\n        \"description\": \"\"\n      }\n    },\n    {\n      \"column\": \"Amount_of_tip\",\n      \"properties\": {\n        \"dtype\": \"number\",\n        \"std\": 3.7001147311684783,\n        \"min\": 0.0,\n        \"max\": 120.3,\n        \"num_unique_values\": 1430,\n        \"samples\": [\n          1.97,\n          21.28\n        ],\n        \"semantic_type\": \"\",\n        \"description\": \"\"\n      }\n    },\n    {\n      \"column\": \"Refunded_amount\",\n      \"properties\": {\n        \"dtype\": \"number\",\n        \"std\": 6.073103929474751,\n        \"min\": 0.0,\n        \"max\": 414.77,\n        \"num_unique_values\": 369,\n        \"samples\": [\n          101.68,\n          24.96\n        ],\n        \"semantic_type\": \"\",\n        \"description\": \"\"\n      }\n    }\n  ]\n}"
            }
          },
          "metadata": {},
          "execution_count": 3
        }
      ]
    },
    {
      "cell_type": "markdown",
      "source": [
        "Here the first step I am doing is getting details about the dataset so that I can figure out what all preprocessing and cleaning steps I need to take for an efficient analysis. Here you can see that most of the columns have 18078 rows of data but there are some columns such as ***Placed_order_with_restaurant_datetime*** which have 18038 non null data, which shows that there are some null data present."
      ],
      "metadata": {
        "id": "NG1IL5UQSvcR"
      }
    },
    {
      "cell_type": "code",
      "source": [
        "df.info()"
      ],
      "metadata": {
        "colab": {
          "base_uri": "https://localhost:8080/"
        },
        "id": "DpEEXmAw9fKn",
        "outputId": "f732f549-3aff-4ff8-c2f8-5742e4f0dc90"
      },
      "execution_count": null,
      "outputs": [
        {
          "output_type": "stream",
          "name": "stdout",
          "text": [
            "<class 'pandas.core.frame.DataFrame'>\n",
            "RangeIndex: 18078 entries, 0 to 18077\n",
            "Data columns (total 14 columns):\n",
            " #   Column                                 Non-Null Count  Dtype  \n",
            "---  ------                                 --------------  -----  \n",
            " 0   Customer_placed_order_datetime         18078 non-null  object \n",
            " 1   Placed_order_with_restaurant_datetime  18038 non-null  object \n",
            " 2   Driver_at_restaurant_datetime          13547 non-null  object \n",
            " 3   Delivered_to_consumer_datetime         18078 non-null  object \n",
            " 4   Driver_ID                              18078 non-null  int64  \n",
            " 5   Restaurant_ID                          18078 non-null  int64  \n",
            " 6   Consumer_ID                            18078 non-null  int64  \n",
            " 7   Is_New                                 18078 non-null  bool   \n",
            " 8   Delivery_Region                        18052 non-null  object \n",
            " 9   Is_ASAP                                18078 non-null  bool   \n",
            " 10  Order_total                            18078 non-null  float64\n",
            " 11  Amount_of_discount                     18078 non-null  float64\n",
            " 12  Amount_of_tip                          18078 non-null  float64\n",
            " 13  Refunded_amount                        18078 non-null  float64\n",
            "dtypes: bool(2), float64(4), int64(3), object(5)\n",
            "memory usage: 1.7+ MB\n"
          ]
        }
      ]
    },
    {
      "cell_type": "markdown",
      "source": [
        "To prepare the dataset for analysis, missing values in the Placed_order_with_restaurant_datetime and Driver_at_restaurant_datetime columns were filled using linear interpolation based on the Customer_placed_order_datetime and Placed_order_with_restaurant_datetime, respectively. Entries with null values in the Delivery_Region column were dropped to avoid bias, as there were only 26 missing values. These preprocessing steps ensured data consistency and completeness, readying the dataset for accurate and reliable analysis."
      ],
      "metadata": {
        "id": "kmMTBysuwPo3"
      }
    },
    {
      "cell_type": "code",
      "source": [
        "df['Placed_order_with_restaurant_datetime'] = df['Customer_placed_order_datetime'].interpolate()\n",
        "df['Driver_at_restaurant_datetime'] = df['Placed_order_with_restaurant_datetime'].interpolate()\n",
        "df = df.dropna(subset=['Delivery_Region'])\n",
        "df.isnull().sum()"
      ],
      "metadata": {
        "colab": {
          "base_uri": "https://localhost:8080/"
        },
        "id": "WEDdx8UT9pgf",
        "outputId": "c712a4b8-d0ed-4fe8-f5e7-f2ca0c4aa939"
      },
      "execution_count": null,
      "outputs": [
        {
          "output_type": "execute_result",
          "data": {
            "text/plain": [
              "Customer_placed_order_datetime           0\n",
              "Placed_order_with_restaurant_datetime    0\n",
              "Driver_at_restaurant_datetime            0\n",
              "Delivered_to_consumer_datetime           0\n",
              "Driver_ID                                0\n",
              "Restaurant_ID                            0\n",
              "Consumer_ID                              0\n",
              "Is_New                                   0\n",
              "Delivery_Region                          0\n",
              "Is_ASAP                                  0\n",
              "Order_total                              0\n",
              "Amount_of_discount                       0\n",
              "Amount_of_tip                            0\n",
              "Refunded_amount                          0\n",
              "dtype: int64"
            ]
          },
          "metadata": {},
          "execution_count": 5
        }
      ]
    },
    {
      "cell_type": "markdown",
      "source": [
        "Here the datetime columns are not in the correct format for time based calculations. So they are converted to datetime format. In addition, an extra column is added which indicates the delivery time in minutes"
      ],
      "metadata": {
        "id": "sBlw_eTQWRh2"
      }
    },
    {
      "cell_type": "code",
      "source": [
        "datetime_columns = [ 'Customer_placed_order_datetime', 'Placed_order_with_restaurant_datetime','Driver_at_restaurant_datetime','Delivered_to_consumer_datetime' ]\n",
        "\n",
        "for col in datetime_columns:\n",
        "    df[col] = pd.to_datetime('2024-' + df[col], format='%Y-%d %H:%M:%S', errors='coerce')\n",
        "\n",
        "df['Delivery_time_minutes'] = abs((df['Delivered_to_consumer_datetime'] - df['Customer_placed_order_datetime']).dt.total_seconds() / 60)\n"
      ],
      "metadata": {
        "id": "Vy5k1_y3-GQO"
      },
      "execution_count": null,
      "outputs": []
    },
    {
      "cell_type": "markdown",
      "source": [
        "Analyzing the datetime vlaues you can see that there are large variations in the ***Delivery_time_minutes***, so we I drew a boxplot to see where the data points lie, find and remove the outliers"
      ],
      "metadata": {
        "id": "3iDHHqOiXIZE"
      }
    },
    {
      "cell_type": "code",
      "source": [
        "df['Delivery_time_minutes'].describe()"
      ],
      "metadata": {
        "colab": {
          "base_uri": "https://localhost:8080/"
        },
        "id": "JKW5lkyNTe0h",
        "outputId": "962ca65b-04c1-42e3-8139-a1dcbdf3232f"
      },
      "execution_count": null,
      "outputs": [
        {
          "output_type": "execute_result",
          "data": {
            "text/plain": [
              "count    18078.000000\n",
              "mean       214.744793\n",
              "std       2442.642577\n",
              "min          0.466667\n",
              "25%         37.316667\n",
              "50%         48.400000\n",
              "75%         65.895833\n",
              "max      44614.816667\n",
              "Name: Delivery_time_minutes, dtype: float64"
            ]
          },
          "metadata": {},
          "execution_count": 7
        }
      ]
    },
    {
      "cell_type": "code",
      "source": [
        "plt.figure(figsize=(10, 6))\n",
        "sns.boxplot(data=df, x='Delivery_time_minutes')\n",
        "plt.title('Bar Plot of Average Delivery Time by Number of Refunds')\n",
        "plt.xlabel('Number of Refunds')\n",
        "plt.ylabel('Average Delivery Time (minutes)')\n",
        "plt.grid(True)\n",
        "plt.show()"
      ],
      "metadata": {
        "colab": {
          "base_uri": "https://localhost:8080/",
          "height": 564
        },
        "id": "P74cZN7IPvLL",
        "outputId": "66a03f4c-cbea-4271-e4e2-25bd7e260908"
      },
      "execution_count": null,
      "outputs": [
        {
          "output_type": "display_data",
          "data": {
            "text/plain": [
              "<Figure size 1000x600 with 1 Axes>"
            ],
            "image/png": "[encoded data removed]"
          },
          "metadata": {}
        }
      ]
    },
    {
      "cell_type": "code",
      "source": [
        "Q1 = df['Delivery_time_minutes'].quantile(0.25)\n",
        "Q3 = df['Delivery_time_minutes'].quantile(0.75)\n",
        "IQR = Q3 - Q1\n",
        "lower_bound = Q1 - 1.5 * IQR\n",
        "upper_bound = Q3 + 1.5 * IQR\n",
        "filtered_df = df[(df['Delivery_time_minutes'] >= lower_bound) & (df['Delivery_time_minutes'] <= upper_bound)]"
      ],
      "metadata": {
        "id": "QtbVcOsNSRv9"
      },
      "execution_count": null,
      "outputs": []
    },
    {
      "cell_type": "code",
      "source": [
        "df.head()"
      ],
      "metadata": {
        "colab": {
          "base_uri": "https://localhost:8080/",
          "height": 226
        },
        "id": "qOF62AtGo8V2",
        "outputId": "1416753d-cdc6-49a9-e776-d36521b126b1"
      },
      "execution_count": null,
      "outputs": [
        {
          "output_type": "execute_result",
          "data": {
            "text/plain": [
              "  Customer_placed_order_datetime Placed_order_with_restaurant_datetime  \\\n",
              "0            2024-01-14 20:27:45                   2024-01-14 20:27:45   \n",
              "1            2024-01-07 20:16:28                   2024-01-07 20:16:28   \n",
              "2            2024-01-13 19:35:09                   2024-01-13 19:35:09   \n",
              "3            2024-01-22 19:47:53                   2024-01-22 19:47:53   \n",
              "4            2024-01-03 19:01:52                   2024-01-03 19:01:52   \n",
              "\n",
              "  Driver_at_restaurant_datetime Delivered_to_consumer_datetime  Driver_ID  \\\n",
              "0           2024-01-14 20:39:32            2024-01-14 20:52:03         86   \n",
              "1           2024-01-07 20:36:00            2024-01-07 20:49:02        325   \n",
              "2           2024-01-13 20:28:16            2024-01-13 20:52:44        200   \n",
              "3           2024-01-22 20:01:20            2024-01-22 20:18:01        154   \n",
              "4           2024-01-03 19:36:20            2024-01-03 19:45:26        332   \n",
              "\n",
              "   Restaurant_ID  Consumer_ID  Is_New Delivery_Region  Is_ASAP  Order_total  \\\n",
              "0             12            5   False       Palo Alto     True        20.45   \n",
              "1             66            5   False       Palo Alto     True        40.62   \n",
              "2            124            5   False       Palo Alto     True        37.78   \n",
              "3              5           14   False       Palo Alto     True        39.66   \n",
              "4              9           14   False       Palo Alto     True        39.66   \n",
              "\n",
              "   Amount_of_discount  Amount_of_tip  Refunded_amount  Delivery_time_minutes  \n",
              "0               20.45           3.07              0.0              24.300000  \n",
              "1               40.62           3.73              0.0              32.566667  \n",
              "2               37.78           1.89              0.0              77.583333  \n",
              "3                0.00           1.98              0.0              30.133333  \n",
              "4                0.00           5.95              0.0              43.566667  "
            ],
            "text/html": [
              "\n",
              "  <div id=\"df-a282f0a8-3841-44f3-8a50-a29a6885e037\" class=\"colab-df-container\">\n",
              "    <div>\n",
              "<style scoped>\n",
              "    .dataframe tbody tr th:only-of-type {\n",
              "        vertical-align: middle;\n",
              "    }\n",
              "\n",
              "    .dataframe tbody tr th {\n",
              "        vertical-align: top;\n",
              "    }\n",
              "\n",
              "    .dataframe thead th {\n",
              "        text-align: right;\n",
              "    }\n",
              "</style>\n",
              "<table border=\"1\" class=\"dataframe\">\n",
              "  <thead>\n",
              "    <tr style=\"text-align: right;\">\n",
              "      <th></th>\n",
              "      <th>Customer_placed_order_datetime</th>\n",
              "      <th>Placed_order_with_restaurant_datetime</th>\n",
              "      <th>Driver_at_restaurant_datetime</th>\n",
              "      <th>Delivered_to_consumer_datetime</th>\n",
              "      <th>Driver_ID</th>\n",
              "      <th>Restaurant_ID</th>\n",
              "      <th>Consumer_ID</th>\n",
              "      <th>Is_New</th>\n",
              "      <th>Delivery_Region</th>\n",
              "      <th>Is_ASAP</th>\n",
              "      <th>Order_total</th>\n",
              "      <th>Amount_of_discount</th>\n",
              "      <th>Amount_of_tip</th>\n",
              "      <th>Refunded_amount</th>\n",
              "      <th>Delivery_time_minutes</th>\n",
              "    </tr>\n",
              "  </thead>\n",
              "  <tbody>\n",
              "    <tr>\n",
              "      <th>0</th>\n",
              "      <td>2024-01-14 20:27:45</td>\n",
              "      <td>2024-01-14 20:27:45</td>\n",
              "      <td>2024-01-14 20:39:32</td>\n",
              "      <td>2024-01-14 20:52:03</td>\n",
              "      <td>86</td>\n",
              "      <td>12</td>\n",
              "      <td>5</td>\n",
              "      <td>False</td>\n",
              "      <td>Palo Alto</td>\n",
              "      <td>True</td>\n",
              "      <td>20.45</td>\n",
              "      <td>20.45</td>\n",
              "      <td>3.07</td>\n",
              "      <td>0.0</td>\n",
              "      <td>24.300000</td>\n",
              "    </tr>\n",
              "    <tr>\n",
              "      <th>1</th>\n",
              "      <td>2024-01-07 20:16:28</td>\n",
              "      <td>2024-01-07 20:16:28</td>\n",
              "      <td>2024-01-07 20:36:00</td>\n",
              "      <td>2024-01-07 20:49:02</td>\n",
              "      <td>325</td>\n",
              "      <td>66</td>\n",
              "      <td>5</td>\n",
              "      <td>False</td>\n",
              "      <td>Palo Alto</td>\n",
              "      <td>True</td>\n",
              "      <td>40.62</td>\n",
              "      <td>40.62</td>\n",
              "      <td>3.73</td>\n",
              "      <td>0.0</td>\n",
              "      <td>32.566667</td>\n",
              "    </tr>\n",
              "    <tr>\n",
              "      <th>2</th>\n",
              "      <td>2024-01-13 19:35:09</td>\n",
              "      <td>2024-01-13 19:35:09</td>\n",
              "      <td>2024-01-13 20:28:16</td>\n",
              "      <td>2024-01-13 20:52:44</td>\n",
              "      <td>200</td>\n",
              "      <td>124</td>\n",
              "      <td>5</td>\n",
              "      <td>False</td>\n",
              "      <td>Palo Alto</td>\n",
              "      <td>True</td>\n",
              "      <td>37.78</td>\n",
              "      <td>37.78</td>\n",
              "      <td>1.89</td>\n",
              "      <td>0.0</td>\n",
              "      <td>77.583333</td>\n",
              "    </tr>\n",
              "    <tr>\n",
              "      <th>3</th>\n",
              "      <td>2024-01-22 19:47:53</td>\n",
              "      <td>2024-01-22 19:47:53</td>\n",
              "      <td>2024-01-22 20:01:20</td>\n",
              "      <td>2024-01-22 20:18:01</td>\n",
              "      <td>154</td>\n",
              "      <td>5</td>\n",
              "      <td>14</td>\n",
              "      <td>False</td>\n",
              "      <td>Palo Alto</td>\n",
              "      <td>True</td>\n",
              "      <td>39.66</td>\n",
              "      <td>0.00</td>\n",
              "      <td>1.98</td>\n",
              "      <td>0.0</td>\n",
              "      <td>30.133333</td>\n",
              "    </tr>\n",
              "    <tr>\n",
              "      <th>4</th>\n",
              "      <td>2024-01-03 19:01:52</td>\n",
              "      <td>2024-01-03 19:01:52</td>\n",
              "      <td>2024-01-03 19:36:20</td>\n",
              "      <td>2024-01-03 19:45:26</td>\n",
              "      <td>332</td>\n",
              "      <td>9</td>\n",
              "      <td>14</td>\n",
              "      <td>False</td>\n",
              "      <td>Palo Alto</td>\n",
              "      <td>True</td>\n",
              "      <td>39.66</td>\n",
              "      <td>0.00</td>\n",
              "      <td>5.95</td>\n",
              "      <td>0.0</td>\n",
              "      <td>43.566667</td>\n",
              "    </tr>\n",
              "  </tbody>\n",
              "</table>\n",
              "</div>\n",
              "    <div class=\"colab-df-buttons\">\n",
              "\n",
              "  <div class=\"colab-df-container\">\n",
              "    <button class=\"colab-df-convert\" onclick=\"convertToInteractive('df-a282f0a8-3841-44f3-8a50-a29a6885e037')\"\n",
              "            title=\"Convert this dataframe to an interactive table.\"\n",
              "            style=\"display:none;\">\n",
              "\n",
              "  <svg xmlns=\"http://www.w3.org/2000/svg\" height=\"24px\" viewBox=\"0 -960 960 960\">\n",
              "    <path d=\"M120-120v-720h720v720H120Zm60-500h600v-160H180v160Zm220 220h160v-160H400v160Zm0 220h160v-160H400v160ZM180-400h160v-160H180v160Zm440 0h160v-160H620v160ZM180-180h160v-160H180v160Zm440 0h160v-160H620v160Z\"/>\n",
              "  </svg>\n",
              "    </button>\n",
              "\n",
              "  <style>\n",
              "    .colab-df-container {\n",
              "      display:flex;\n",
              "      gap: 12px;\n",
              "    }\n",
              "\n",
              "    .colab-df-convert {\n",
              "      background-color: #E8F0FE;\n",
              "      border: none;\n",
              "      border-radius: 50%;\n",
              "      cursor: pointer;\n",
              "      display: none;\n",
              "      fill: #1967D2;\n",
              "      height: 32px;\n",
              "      padding: 0 0 0 0;\n",
              "      width: 32px;\n",
              "    }\n",
              "\n",
              "    .colab-df-convert:hover {\n",
              "      background-color: #E2EBFA;\n",
              "      box-shadow: 0px 1px 2px rgba(60, 64, 67, 0.3), 0px 1px 3px 1px rgba(60, 64, 67, 0.15);\n",
              "      fill: #174EA6;\n",
              "    }\n",
              "\n",
              "    .colab-df-buttons div {\n",
              "      margin-bottom: 4px;\n",
              "    }\n",
              "\n",
              "    [theme=dark] .colab-df-convert {\n",
              "      background-color: #3B4455;\n",
              "      fill: #D2E3FC;\n",
              "    }\n",
              "\n",
              "    [theme=dark] .colab-df-convert:hover {\n",
              "      background-color: #434B5C;\n",
              "      box-shadow: 0px 1px 3px 1px rgba(0, 0, 0, 0.15);\n",
              "      filter: drop-shadow(0px 1px 2px rgba(0, 0, 0, 0.3));\n",
              "      fill: #FFFFFF;\n",
              "    }\n",
              "  </style>\n",
              "\n",
              "    <script>\n",
              "      const buttonEl =\n",
              "        document.querySelector('#df-a282f0a8-3841-44f3-8a50-a29a6885e037 button.colab-df-convert');\n",
              "      buttonEl.style.display =\n",
              "        google.colab.kernel.accessAllowed ? 'block' : 'none';\n",
              "\n",
              "      async function convertToInteractive(key) {\n",
              "        const element = document.querySelector('#df-a282f0a8-3841-44f3-8a50-a29a6885e037');\n",
              "        const dataTable =\n",
              "          await google.colab.kernel.invokeFunction('convertToInteractive',\n",
              "                                                    [key], {});\n",
              "        if (!dataTable) return;\n",
              "\n",
              "        const docLinkHtml = 'Like what you see? Visit the ' +\n",
              "          '<a target=\"_blank\" href=https://colab.research.google.com/notebooks/data_table.ipynb>data table notebook</a>'\n",
              "          + ' to learn more about interactive tables.';\n",
              "        element.innerHTML = '';\n",
              "        dataTable['output_type'] = 'display_data';\n",
              "        await google.colab.output.renderOutput(dataTable, element);\n",
              "        const docLink = document.createElement('div');\n",
              "        docLink.innerHTML = docLinkHtml;\n",
              "        element.appendChild(docLink);\n",
              "      }\n",
              "    </script>\n",
              "  </div>\n",
              "\n",
              "\n",
              "<div id=\"df-9d3bc1f4-b35e-4f5b-a229-5ec1f312dd17\">\n",
              "  <button class=\"colab-df-quickchart\" onclick=\"quickchart('df-9d3bc1f4-b35e-4f5b-a229-5ec1f312dd17')\"\n",
              "            title=\"Suggest charts\"\n",
              "            style=\"display:none;\">\n",
              "\n",
              "<svg xmlns=\"http://www.w3.org/2000/svg\" height=\"24px\"viewBox=\"0 0 24 24\"\n",
              "     width=\"24px\">\n",
              "    <g>\n",
              "        <path d=\"M19 3H5c-1.1 0-2 .9-2 2v14c0 1.1.9 2 2 2h14c1.1 0 2-.9 2-2V5c0-1.1-.9-2-2-2zM9 17H7v-7h2v7zm4 0h-2V7h2v10zm4 0h-2v-4h2v4z\"/>\n",
              "    </g>\n",
              "</svg>\n",
              "  </button>\n",
              "\n",
              "<style>\n",
              "  .colab-df-quickchart {\n",
              "      --bg-color: #E8F0FE;\n",
              "      --fill-color: #1967D2;\n",
              "      --hover-bg-color: #E2EBFA;\n",
              "      --hover-fill-color: #174EA6;\n",
              "      --disabled-fill-color: #AAA;\n",
              "      --disabled-bg-color: #DDD;\n",
              "  }\n",
              "\n",
              "  [theme=dark] .colab-df-quickchart {\n",
              "      --bg-color: #3B4455;\n",
              "      --fill-color: #D2E3FC;\n",
              "      --hover-bg-color: #434B5C;\n",
              "      --hover-fill-color: #FFFFFF;\n",
              "      --disabled-bg-color: #3B4455;\n",
              "      --disabled-fill-color: #666;\n",
              "  }\n",
              "\n",
              "  .colab-df-quickchart {\n",
              "    background-color: var(--bg-color);\n",
              "    border: none;\n",
              "    border-radius: 50%;\n",
              "    cursor: pointer;\n",
              "    display: none;\n",
              "    fill: var(--fill-color);\n",
              "    height: 32px;\n",
              "    padding: 0;\n",
              "    width: 32px;\n",
              "  }\n",
              "\n",
              "  .colab-df-quickchart:hover {\n",
              "    background-color: var(--hover-bg-color);\n",
              "    box-shadow: 0 1px 2px rgba(60, 64, 67, 0.3), 0 1px 3px 1px rgba(60, 64, 67, 0.15);\n",
              "    fill: var(--button-hover-fill-color);\n",
              "  }\n",
              "\n",
              "  .colab-df-quickchart-complete:disabled,\n",
              "  .colab-df-quickchart-complete:disabled:hover {\n",
              "    background-color: var(--disabled-bg-color);\n",
              "    fill: var(--disabled-fill-color);\n",
              "    box-shadow: none;\n",
              "  }\n",
              "\n",
              "  .colab-df-spinner {\n",
              "    border: 2px solid var(--fill-color);\n",
              "    border-color: transparent;\n",
              "    border-bottom-color: var(--fill-color);\n",
              "    animation:\n",
              "      spin 1s steps(1) infinite;\n",
              "  }\n",
              "\n",
              "  @keyframes spin {\n",
              "    0% {\n",
              "      border-color: transparent;\n",
              "      border-bottom-color: var(--fill-color);\n",
              "      border-left-color: var(--fill-color);\n",
              "    }\n",
              "    20% {\n",
              "      border-color: transparent;\n",
              "      border-left-color: var(--fill-color);\n",
              "      border-top-color: var(--fill-color);\n",
              "    }\n",
              "    30% {\n",
              "      border-color: transparent;\n",
              "      border-left-color: var(--fill-color);\n",
              "      border-top-color: var(--fill-color);\n",
              "      border-right-color: var(--fill-color);\n",
              "    }\n",
              "    40% {\n",
              "      border-color: transparent;\n",
              "      border-right-color: var(--fill-color);\n",
              "      border-top-color: var(--fill-color);\n",
              "    }\n",
              "    60% {\n",
              "      border-color: transparent;\n",
              "      border-right-color: var(--fill-color);\n",
              "    }\n",
              "    80% {\n",
              "      border-color: transparent;\n",
              "      border-right-color: var(--fill-color);\n",
              "      border-bottom-color: var(--fill-color);\n",
              "    }\n",
              "    90% {\n",
              "      border-color: transparent;\n",
              "      border-bottom-color: var(--fill-color);\n",
              "    }\n",
              "  }\n",
              "</style>\n",
              "\n",
              "  <script>\n",
              "    async function quickchart(key) {\n",
              "      const quickchartButtonEl =\n",
              "        document.querySelector('#' + key + ' button');\n",
              "      quickchartButtonEl.disabled = true;  // To prevent multiple clicks.\n",
              "      quickchartButtonEl.classList.add('colab-df-spinner');\n",
              "      try {\n",
              "        const charts = await google.colab.kernel.invokeFunction(\n",
              "            'suggestCharts', [key], {});\n",
              "      } catch (error) {\n",
              "        console.error('Error during call to suggestCharts:', error);\n",
              "      }\n",
              "      quickchartButtonEl.classList.remove('colab-df-spinner');\n",
              "      quickchartButtonEl.classList.add('colab-df-quickchart-complete');\n",
              "    }\n",
              "    (() => {\n",
              "      let quickchartButtonEl =\n",
              "        document.querySelector('#df-9d3bc1f4-b35e-4f5b-a229-5ec1f312dd17 button');\n",
              "      quickchartButtonEl.style.display =\n",
              "        google.colab.kernel.accessAllowed ? 'block' : 'none';\n",
              "    })();\n",
              "  </script>\n",
              "</div>\n",
              "\n",
              "    </div>\n",
              "  </div>\n"
            ],
            "application/vnd.google.colaboratory.intrinsic+json": {
              "type": "dataframe",
              "variable_name": "df",
              "summary": "{\n  \"name\": \"df\",\n  \"rows\": 18078,\n  \"fields\": [\n    {\n      \"column\": \"Customer_placed_order_datetime\",\n      \"properties\": {\n        \"dtype\": \"date\",\n        \"min\": \"2024-01-01 00:00:47\",\n        \"max\": \"2024-01-31 23:59:56\",\n        \"num_unique_values\": 17888,\n        \"samples\": [\n          \"2024-01-22 17:30:19\",\n          \"2024-01-06 23:38:02\",\n          \"2024-01-11 18:29:55\"\n        ],\n        \"semantic_type\": \"\",\n        \"description\": \"\"\n      }\n    },\n    {\n      \"column\": \"Placed_order_with_restaurant_datetime\",\n      \"properties\": {\n        \"dtype\": \"date\",\n        \"min\": \"2024-01-01 00:00:47\",\n        \"max\": \"2024-01-31 23:59:56\",\n        \"num_unique_values\": 17888,\n        \"samples\": [\n          \"2024-01-22 17:30:19\",\n          \"2024-01-06 23:38:02\",\n          \"2024-01-11 18:29:55\"\n        ],\n        \"semantic_type\": \"\",\n        \"description\": \"\"\n      }\n    },\n    {\n      \"column\": \"Driver_at_restaurant_datetime\",\n      \"properties\": {\n        \"dtype\": \"date\",\n        \"min\": \"2024-01-01 00:01:37\",\n        \"max\": \"2024-01-31 23:56:34\",\n        \"num_unique_values\": 13382,\n        \"samples\": [\n          \"2024-01-05 23:42:49\",\n          \"2024-01-07 03:43:56\",\n          \"2024-01-04 03:44:16\"\n        ],\n        \"semantic_type\": \"\",\n        \"description\": \"\"\n      }\n    },\n    {\n      \"column\": \"Delivered_to_consumer_datetime\",\n      \"properties\": {\n        \"dtype\": \"date\",\n        \"min\": \"2024-01-01 00:04:01\",\n        \"max\": \"2024-01-30 23:52:59\",\n        \"num_unique_values\": 17886,\n        \"samples\": [\n          \"2024-01-23 19:02:45\",\n          \"2024-01-02 00:37:15\",\n          \"2024-01-30 03:05:24\"\n        ],\n        \"semantic_type\": \"\",\n        \"description\": \"\"\n      }\n    },\n    {\n      \"column\": \"Driver_ID\",\n      \"properties\": {\n        \"dtype\": \"number\",\n        \"std\": 105,\n        \"min\": 7,\n        \"max\": 438,\n        \"num_unique_values\": 295,\n        \"samples\": [\n          411,\n          170,\n          24\n        ],\n        \"semantic_type\": \"\",\n        \"description\": \"\"\n      }\n    },\n    {\n      \"column\": \"Restaurant_ID\",\n      \"properties\": {\n        \"dtype\": \"number\",\n        \"std\": 98,\n        \"min\": 2,\n        \"max\": 409,\n        \"num_unique_values\": 314,\n        \"samples\": [\n          55,\n          101,\n          276\n        ],\n        \"semantic_type\": \"\",\n        \"description\": \"\"\n      }\n    },\n    {\n      \"column\": \"Consumer_ID\",\n      \"properties\": {\n        \"dtype\": \"number\",\n        \"std\": 42010,\n        \"min\": 5,\n        \"max\": 200449,\n        \"num_unique_values\": 6701,\n        \"samples\": [\n          58402,\n          9338,\n          98085\n        ],\n        \"semantic_type\": \"\",\n        \"description\": \"\"\n      }\n    },\n    {\n      \"column\": \"Is_New\",\n      \"properties\": {\n        \"dtype\": \"boolean\",\n        \"num_unique_values\": 2,\n        \"samples\": [\n          true,\n          false\n        ],\n        \"semantic_type\": \"\",\n        \"description\": \"\"\n      }\n    },\n    {\n      \"column\": \"Delivery_Region\",\n      \"properties\": {\n        \"dtype\": \"category\",\n        \"num_unique_values\": 4,\n        \"samples\": [\n          \"Mountain View\",\n          \"Unknown\"\n        ],\n        \"semantic_type\": \"\",\n        \"description\": \"\"\n      }\n    },\n    {\n      \"column\": \"Is_ASAP\",\n      \"properties\": {\n        \"dtype\": \"boolean\",\n        \"num_unique_values\": 2,\n        \"samples\": [\n          false,\n          true\n        ],\n        \"semantic_type\": \"\",\n        \"description\": \"\"\n      }\n    },\n    {\n      \"column\": \"Order_total\",\n      \"properties\": {\n        \"dtype\": \"number\",\n        \"std\": 50.599674501605016,\n        \"min\": 0.0,\n        \"max\": 1604.13,\n        \"num_unique_values\": 3733,\n        \"samples\": [\n          150.55,\n          42.35\n        ],\n        \"semantic_type\": \"\",\n        \"description\": \"\"\n      }\n    },\n    {\n      \"column\": \"Amount_of_discount\",\n      \"properties\": {\n        \"dtype\": \"number\",\n        \"std\": 6.516667255717294,\n        \"min\": 0.0,\n        \"max\": 187.88,\n        \"num_unique_values\": 155,\n        \"samples\": [\n          25.0,\n          89.4\n        ],\n        \"semantic_type\": \"\",\n        \"description\": \"\"\n      }\n    },\n    {\n      \"column\": \"Amount_of_tip\",\n      \"properties\": {\n        \"dtype\": \"number\",\n        \"std\": 3.7001147311684783,\n        \"min\": 0.0,\n        \"max\": 120.3,\n        \"num_unique_values\": 1430,\n        \"samples\": [\n          1.97,\n          21.28\n        ],\n        \"semantic_type\": \"\",\n        \"description\": \"\"\n      }\n    },\n    {\n      \"column\": \"Refunded_amount\",\n      \"properties\": {\n        \"dtype\": \"number\",\n        \"std\": 6.073103929474751,\n        \"min\": 0.0,\n        \"max\": 414.77,\n        \"num_unique_values\": 369,\n        \"samples\": [\n          101.68,\n          24.96\n        ],\n        \"semantic_type\": \"\",\n        \"description\": \"\"\n      }\n    },\n    {\n      \"column\": \"Delivery_time_minutes\",\n      \"properties\": {\n        \"dtype\": \"number\",\n        \"std\": 2442.6425771152444,\n        \"min\": 0.4666666666666667,\n        \"max\": 44614.816666666666,\n        \"num_unique_values\": 5673,\n        \"samples\": [\n          48.03333333333333,\n          60.36666666666667\n        ],\n        \"semantic_type\": \"\",\n        \"description\": \"\"\n      }\n    }\n  ]\n}"
            }
          },
          "metadata": {},
          "execution_count": 10
        }
      ]
    },
    {
      "cell_type": "markdown",
      "source": [
        "To evaluate the app's performance in terms of successful deliveries, the number of new and returning customers was analyzed. This metric indirectly reflects the number of deliveries. The assumption here is that:\n",
        "\n",
        "Number of Orders = Number of Deliveries\n",
        "This analysis depicts the number of new and returning customers by region and introduces a metric to show the conversion rate of new customers to returning customers. This metric indicates how many orders are placed by new customers versus returning customers."
      ],
      "metadata": {
        "id": "lfvWSDMvX2Rw"
      }
    },
    {
      "cell_type": "code",
      "source": [
        "import seaborn as sns\n",
        "import matplotlib.pyplot as plt\n",
        "plt.figure(figsize=(10, 6))\n",
        "sns.countplot(data=df, x='Delivery_Region', palette='Reds')\n",
        "plt.title('Number of Orders from Each Region')\n",
        "plt.xlabel('Delivery Region')\n",
        "plt.ylabel('Number of Orders')\n",
        "plt.xticks(rotation=0)"
      ],
      "metadata": {
        "colab": {
          "base_uri": "https://localhost:8080/",
          "height": 763
        },
        "id": "-nJdZgqiuo2r",
        "outputId": "fa117f56-0af6-4026-d658-004651cd1f0f"
      },
      "execution_count": null,
      "outputs": [
        {
          "output_type": "stream",
          "name": "stderr",
          "text": [
            "<ipython-input-11-10a0bbdd8dd5>:4: FutureWarning: \n",
            "\n",
            "Passing `palette` without assigning `hue` is deprecated and will be removed in v0.14.0. Assign the `x` variable to `hue` and set `legend=False` for the same effect.\n",
            "\n",
            "  sns.countplot(data=df, x='Delivery_Region', palette='Reds')\n"
          ]
        },
        {
          "output_type": "execute_result",
          "data": {
            "text/plain": [
              "([0, 1, 2, 3],\n",
              " [Text(0, 0, 'Palo Alto'),\n",
              "  Text(1, 0, 'Mountain View'),\n",
              "  Text(2, 0, 'San Jose'),\n",
              "  Text(3, 0, 'Unknown')])"
            ]
          },
          "metadata": {},
          "execution_count": 11
        },
        {
          "output_type": "display_data",
          "data": {
            "text/plain": [
              "<Figure size 1000x600 with 1 Axes>"
            ],
            "image/png": "[encoded data removed]"
          },
          "metadata": {}
        }
      ]
    },
    {
      "cell_type": "markdown",
      "source": [
        "## **Results and Insights**\n",
        "### **Regional Performance**\n",
        "* **Mountain View and Palo Alto:** Both regions are performing well, with customer retention metrics exceeding 4.2. This indicates strong customer retention. However, while Palo Alto attracts a significant number of new customers (2,123), Mountain View attracts fewer (720), suggesting that Mountain View excels in retention but struggles with customer acquisition.\n",
        "\n",
        "* **San Jose:** This region is underperforming with a retention metric around 3.3. It struggles both in attracting new customers and retaining existing ones.\n",
        "\n"
      ],
      "metadata": {
        "id": "wu08u1PcwkG7"
      }
    },
    {
      "cell_type": "code",
      "source": [
        "df.sort_values(by=['Consumer_ID', 'Customer_placed_order_datetime'], inplace=True)\n",
        "new_and_returning_counts = df.groupby(['Delivery_Region', 'Is_New']).size().unstack(fill_value=0)\n",
        "new_and_returning_counts.columns = ['Returning_Customer', 'New_Customer']\n",
        "new_and_returning_counts['New_to_Returning_Ratio'] = new_and_returning_counts['Returning_Customer'] / new_and_returning_counts['New_Customer']\n",
        "print(new_and_returning_counts[['New_Customer', 'Returning_Customer', 'New_to_Returning_Ratio']])"
      ],
      "metadata": {
        "colab": {
          "base_uri": "https://localhost:8080/"
        },
        "id": "VejZfv8A1VLu",
        "outputId": "addbae24-2f2d-499e-86fa-08440cbe4105"
      },
      "execution_count": null,
      "outputs": [
        {
          "output_type": "stream",
          "name": "stdout",
          "text": [
            "                 New_Customer  Returning_Customer  New_to_Returning_Ratio\n",
            "Delivery_Region                                                          \n",
            "Mountain View             720                3040                4.222222\n",
            "Palo Alto                2123                9310                4.385304\n",
            "San Jose                  666                2193                3.292793\n"
          ]
        }
      ]
    },
    {
      "cell_type": "markdown",
      "source": [
        "Customer Lifetime Value (CLV) measures the total value a customer brings over their entire relationship with the business, considering average order value, purchase frequency, and customer lifespan. Analysis shows that returning customers have at least twice the value compared to new customers. Notably, the CLV for the San Jose region is significantly lower than in other regions, highlighting it as an area needing improvement.\n",
        "\n",
        "## **Recommendations:**\n",
        "\n",
        "**Mountain View:**\n",
        "\n",
        "Increase New Customer Acquisition: Since retention is strong, focus on strategies to attract new customers, such as local promotions and partnerships with popular local restaurants.\n",
        "\n",
        "\n",
        "**Palo Alto:**\n",
        "\n",
        "Sustain Retention Efforts: Continue current successful retention strategies while slightly enhancing efforts to acquire more new customers to maintain balance.\n"
      ],
      "metadata": {
        "id": "iAqS-xD1xQ-s"
      }
    },
    {
      "cell_type": "code",
      "source": [
        "df['Order_Value'] = df['Order_total'] - df['Refunded_amount'] - df['Amount_of_discount']\n",
        "aov = df['Order_Value'].mean()\n",
        "purchase_frequency = df.groupby('Consumer_ID').size().mean()\n",
        "customer_value = aov * purchase_frequency\n",
        "customer_lifespan = df.groupby('Consumer_ID')['Customer_placed_order_datetime'].apply(lambda x: (x.max() - x.min()).days / 30).mean()\n",
        "clv = customer_value * customer_lifespan\n",
        "new_customers = df[df['Is_New']]\n",
        "returning_customers = df[~df['Is_New']]\n",
        "new_customer_clv = (new_customers['Order_Value'].mean() * new_customers.groupby('Consumer_ID').size().mean()) * customer_lifespan\n",
        "returning_customer_clv = (returning_customers['Order_Value'].mean() * returning_customers.groupby('Consumer_ID').size().mean()) * customer_lifespan\n",
        "\n",
        "print(f\"Overall CLV: {clv}\")\n",
        "print(f\"New Customer CLV: {new_customer_clv}\")\n",
        "print(f\"Returning Customer CLV: {returning_customer_clv}\")\n"
      ],
      "metadata": {
        "id": "nf5N8S-I1pUv",
        "colab": {
          "base_uri": "https://localhost:8080/"
        },
        "outputId": "b7e00a1d-2a8d-4b14-ad55-b2fc162bddf1"
      },
      "execution_count": null,
      "outputs": [
        {
          "output_type": "stream",
          "name": "stdout",
          "text": [
            "Overall CLV: 32.785373875257186\n",
            "New Customer CLV: 17.811249660011676\n",
            "Returning Customer CLV: 30.154382193385562\n"
          ]
        }
      ]
    },
    {
      "cell_type": "code",
      "source": [
        "clv_by_region = df.groupby('Delivery_Region').apply(lambda x: (x['Order_Value'].mean() * x.groupby('Consumer_ID').size().mean()) * x.groupby('Consumer_ID')['Customer_placed_order_datetime'].apply(lambda y: (y.max() - y.min()).days / 30).mean())\n",
        "print(clv_by_region)"
      ],
      "metadata": {
        "colab": {
          "base_uri": "https://localhost:8080/"
        },
        "id": "TBbK9r5ZDf0H",
        "outputId": "20b9c033-4e2e-4f14-a68f-b81e594c57ba"
      },
      "execution_count": null,
      "outputs": [
        {
          "output_type": "stream",
          "name": "stdout",
          "text": [
            "Delivery_Region\n",
            "Mountain View    35.957293\n",
            "Palo Alto        35.738516\n",
            "San Jose         18.184279\n",
            "dtype: float64\n"
          ]
        }
      ]
    },
    {
      "cell_type": "markdown",
      "source": [
        "## **Conclusion**\n",
        "By focusing on improving customer acquisition in Mountain View and retention in San Jose, DoorDash can increase its overall number of completed deliveries, aligning with its north star metric. Enhancing the Customer Lifetime Value in underperforming regions will also contribute to long-term business growth."
      ],
      "metadata": {
        "id": "nzuCIQRPxZTI"
      }
    },
    {
      "cell_type": "code",
      "source": [
        "customer_features = df.groupby('Consumer_ID').agg({\n",
        "    'Order_Value': ['mean', 'sum', 'count'],\n",
        "    'Customer_placed_order_datetime': ['max', 'min']\n",
        "}).reset_index()\n",
        "\n",
        "customer_features.columns = ['Consumer_ID', 'Avg_Order_Value', 'Total_Spend', 'Order_Count', 'Last_Order', 'First_Order']\n",
        "customer_features['Customer_Tenure'] = (customer_features['Last_Order'] - customer_features['First_Order']).dt.days\n",
        "customer_features.drop(['Last_Order', 'First_Order'], axis=1, inplace=True)\n",
        "\n",
        "X = customer_features.drop(['Total_Spend', 'Consumer_ID'], axis=1)\n",
        "y = customer_features['Total_Spend']"
      ],
      "metadata": {
        "id": "Roc6_1ncEDWF"
      },
      "execution_count": null,
      "outputs": []
    },
    {
      "cell_type": "code",
      "source": [
        "models = {\n",
        "    'Ridge': Ridge(),\n",
        "    'Lasso': Lasso(),\n",
        "    'RandomForest': RandomForestRegressor(n_estimators=1000, random_state=42),\n",
        "    'GradientBoosting': GradientBoostingRegressor(n_estimators=1000, random_state=42),\n",
        "    'XGBoost': XGBRegressor(n_estimators=1000, random_state=42)\n",
        "}\n",
        "X_train, X_test, y_train, y_test = train_test_split(X, y, test_size=0.2, random_state=42)\n",
        "for name, model in models.items():\n",
        "    model.fit(X_train, y_train)\n",
        "    y_pred = model.predict(X_test)\n",
        "    mse = mean_squared_error(y_test, y_pred)\n",
        "    print(f\"{name} Mean Squared Error: {mse}\")\n",
        "    cv_scores = cross_val_score(model, X, y, cv=5, scoring='neg_mean_squared_error')\n",
        "    print(f\"{name}  CV Mean Squared Error: {-cv_scores.mean()}\")\n"
      ],
      "metadata": {
        "colab": {
          "base_uri": "https://localhost:8080/"
        },
        "id": "cY1xeBBYoN8a",
        "outputId": "8af4c2ff-121c-415f-9578-5263d3a4fee3"
      },
      "execution_count": null,
      "outputs": [
        {
          "output_type": "stream",
          "name": "stdout",
          "text": [
            "Ridge Mean Squared Error: 49050.97686537359\n",
            "Ridge  CV Mean Squared Error: 32642.85679989253\n",
            "Lasso Mean Squared Error: 49108.12713736095\n",
            "Lasso  CV Mean Squared Error: 32643.809038367202\n",
            "RandomForest Mean Squared Error: 30729.604169006154\n",
            "RandomForest  CV Mean Squared Error: 10283.629562308792\n",
            "GradientBoosting Mean Squared Error: 26802.19367116921\n",
            "GradientBoosting  CV Mean Squared Error: 7553.8719040565975\n",
            "XGBoost Mean Squared Error: 13827.917266556837\n",
            "XGBoost  CV Mean Squared Error: 4842.57175584785\n"
          ]
        }
      ]
    },
    {
      "cell_type": "code",
      "source": [],
      "metadata": {
        "id": "FDzKm0IQpVFO"
      },
      "execution_count": null,
      "outputs": []
    }
  ]
}